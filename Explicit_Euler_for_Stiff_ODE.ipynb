{
 "cells": [
  {
   "cell_type": "code",
   "execution_count": 1,
   "metadata": {},
   "outputs": [],
   "source": [
    "%matplotlib inline\n",
    "\n",
    "import numpy as np\n",
    "from math import exp\n",
    "import matplotlib.pyplot as plt"
   ]
  },
  {
   "cell_type": "code",
   "execution_count": 116,
   "metadata": {},
   "outputs": [],
   "source": [
    "def analytical_solution(y_0, t):\n",
    "    steps_num = len(t)\n",
    "    y = np.empty(steps_num)\n",
    "    for i in range(steps_num):\n",
    "        t_i = t[i]\n",
    "        y_i = y_0 * exp(-15 * t_i)\n",
    "        y[i] = y_i\n",
    "    return y\n",
    "\n",
    "\n",
    "def explicit_euler_solution(y_initial, h, steps_num):\n",
    "    y = np.empty(steps_num + 1)\n",
    "\n",
    "    y[0] = y_initial\n",
    "\n",
    "    for i in range(1, steps_num + 1):\n",
    "        y_i = y_initial + (-15.0 * y_initial) * h\n",
    "        y[i] = y_i\n",
    "        y_initial = y_i\n",
    "        \n",
    "    return y"
   ]
  },
  {
   "cell_type": "code",
   "execution_count": 135,
   "metadata": {},
   "outputs": [
    {
     "name": "stdout",
     "output_type": "stream",
     "text": [
      "Number of time steps = 500\n"
     ]
    }
   ],
   "source": [
    "t_start= 0\n",
    "t_end = 5\n",
    "y_0 = 1.0\n",
    "h = 0.01\n",
    "\n",
    "steps = int(t_end/h)\n",
    "print('Number of time steps =', steps)\n",
    "\n",
    "###########################################################################################\n",
    "# Analytical\n",
    "steps_arr = np.arange(0, t_end, h)\n",
    "y_analytical = analytical_solution(y_0, steps_arr)\n",
    "\n",
    "###########################################################################################\n",
    "# Euler Explicit\n",
    "y_ee = explicit_euler_solution(y_0, h, steps)"
   ]
  },
  {
   "cell_type": "code",
   "execution_count": 136,
   "metadata": {},
   "outputs": [
    {
     "data": {
      "text/plain": [
       "<matplotlib.legend.Legend at 0x11666fe10>"
      ]
     },
     "execution_count": 136,
     "metadata": {},
     "output_type": "execute_result"
    },
    {
     "data": {
      "image/png": "[encoded data removed]",
      "text/plain": [
       "<Figure size 864x432 with 1 Axes>"
      ]
     },
     "metadata": {
      "needs_background": "light"
     },
     "output_type": "display_data"
    }
   ],
   "source": [
    "fig = plt.figure(figsize=(12, 6))\n",
    "ax = fig.add_subplot(111)\n",
    "\n",
    "ax.plot(y_analytical, label = 'Analytical')\n",
    "ax.plot(y_ee, label = 'Explicit Euler')\n",
    "\n",
    "ax.grid()\n",
    "ax.legend()"
   ]
  }
 ],
 "metadata": {
  "kernelspec": {
   "display_name": "Python 3",
   "language": "python",
   "name": "python3"
  },
  "language_info": {
   "codemirror_mode": {
    "name": "ipython",
    "version": 3
   },
   "file_extension": ".py",
   "mimetype": "text/x-python",
   "name": "python",
   "nbconvert_exporter": "python",
   "pygments_lexer": "ipython3",
   "version": "3.7.3"
  }
 },
 "nbformat": 4,
 "nbformat_minor": 2
}
